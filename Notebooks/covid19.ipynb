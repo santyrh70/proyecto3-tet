{
 "cells": [
  {
   "cell_type": "code",
   "execution_count": 1,
   "metadata": {},
   "outputs": [
    {
     "data": {
      "application/vnd.jupyter.widget-view+json": {
       "model_id": "46190dd599ae427a8f3078310c4d8a64",
       "version_major": 2,
       "version_minor": 0
      },
      "text/plain": [
       "VBox()"
      ]
     },
     "metadata": {},
     "output_type": "display_data"
    },
    {
     "name": "stdout",
     "output_type": "stream",
     "text": [
      "Starting Spark application\n"
     ]
    },
    {
     "data": {
      "text/html": [
       "<table>\n",
       "<tr><th>ID</th><th>YARN Application ID</th><th>Kind</th><th>State</th><th>Spark UI</th><th>Driver log</th><th>Current session?</th></tr><tr><td>6</td><td>application_1606936258447_0008</td><td>pyspark</td><td>idle</td><td><a target=\"_blank\" href=\"http://ip-172-31-74-103.ec2.internal:20888/proxy/application_1606936258447_0008/\">Link</a></td><td><a target=\"_blank\" href=\"http://ip-172-31-70-97.ec2.internal:8042/node/containerlogs/container_1606936258447_0008_01_000001/livy\">Link</a></td><td>✔</td></tr></table>"
      ],
      "text/plain": [
       "<IPython.core.display.HTML object>"
      ]
     },
     "metadata": {},
     "output_type": "display_data"
    },
    {
     "data": {
      "application/vnd.jupyter.widget-view+json": {
       "model_id": "",
       "version_major": 2,
       "version_minor": 0
      },
      "text/plain": [
       "FloatProgress(value=0.0, bar_style='info', description='Progress:', layout=Layout(height='25px', width='50%'),…"
      ]
     },
     "metadata": {},
     "output_type": "display_data"
    },
    {
     "name": "stdout",
     "output_type": "stream",
     "text": [
      "SparkSession available as 'spark'.\n"
     ]
    },
    {
     "data": {
      "application/vnd.jupyter.widget-view+json": {
       "model_id": "",
       "version_major": 2,
       "version_minor": 0
      },
      "text/plain": [
       "FloatProgress(value=0.0, bar_style='info', description='Progress:', layout=Layout(height='25px', width='50%'),…"
      ]
     },
     "metadata": {},
     "output_type": "display_data"
    }
   ],
   "source": [
    "from pyspark.sql import SparkSession"
   ]
  },
  {
   "cell_type": "code",
   "execution_count": 2,
   "metadata": {},
   "outputs": [
    {
     "data": {
      "application/vnd.jupyter.widget-view+json": {
       "model_id": "5ab09be655ac468abdeb3dfb8d14ca55",
       "version_major": 2,
       "version_minor": 0
      },
      "text/plain": [
       "VBox()"
      ]
     },
     "metadata": {},
     "output_type": "display_data"
    },
    {
     "data": {
      "application/vnd.jupyter.widget-view+json": {
       "model_id": "",
       "version_major": 2,
       "version_minor": 0
      },
      "text/plain": [
       "FloatProgress(value=0.0, bar_style='info', description='Progress:', layout=Layout(height='25px', width='50%'),…"
      ]
     },
     "metadata": {},
     "output_type": "display_data"
    }
   ],
   "source": [
    "#creacion objeto spark\n",
    "spark=SparkSession.builder.appName('data_processing_covid19').getOrCreate()"
   ]
  },
  {
   "cell_type": "code",
   "execution_count": 3,
   "metadata": {},
   "outputs": [
    {
     "data": {
      "application/vnd.jupyter.widget-view+json": {
       "model_id": "f859ee218933435e854f58936ebdbab6",
       "version_major": 2,
       "version_minor": 0
      },
      "text/plain": [
       "VBox()"
      ]
     },
     "metadata": {},
     "output_type": "display_data"
    },
    {
     "data": {
      "application/vnd.jupyter.widget-view+json": {
       "model_id": "",
       "version_major": 2,
       "version_minor": 0
      },
      "text/plain": [
       "FloatProgress(value=0.0, bar_style='info', description='Progress:', layout=Layout(height='25px', width='50%'),…"
      ]
     },
     "metadata": {},
     "output_type": "display_data"
    }
   ],
   "source": [
    "#carga datos de csv \n",
    "df=spark.read.options(delimiter=',').csv('s3://proyecto-3/Raw-py3/covid19.csv',inferSchema=True,header=True)"
   ]
  },
  {
   "cell_type": "code",
   "execution_count": 4,
   "metadata": {},
   "outputs": [
    {
     "data": {
      "application/vnd.jupyter.widget-view+json": {
       "model_id": "52f992f7113d417698bf9b324067f212",
       "version_major": 2,
       "version_minor": 0
      },
      "text/plain": [
       "VBox()"
      ]
     },
     "metadata": {},
     "output_type": "display_data"
    },
    {
     "data": {
      "application/vnd.jupyter.widget-view+json": {
       "model_id": "",
       "version_major": 2,
       "version_minor": 0
      },
      "text/plain": [
       "FloatProgress(value=0.0, bar_style='info', description='Progress:', layout=Layout(height='25px', width='50%'),…"
      ]
     },
     "metadata": {},
     "output_type": "display_data"
    }
   ],
   "source": [
    "#exploracion de metadatos"
   ]
  },
  {
   "cell_type": "code",
   "execution_count": 5,
   "metadata": {},
   "outputs": [
    {
     "data": {
      "application/vnd.jupyter.widget-view+json": {
       "model_id": "53b0985875014cc1a8c9f888d4bc1cc8",
       "version_major": 2,
       "version_minor": 0
      },
      "text/plain": [
       "VBox()"
      ]
     },
     "metadata": {},
     "output_type": "display_data"
    },
    {
     "data": {
      "application/vnd.jupyter.widget-view+json": {
       "model_id": "",
       "version_major": 2,
       "version_minor": 0
      },
      "text/plain": [
       "FloatProgress(value=0.0, bar_style='info', description='Progress:', layout=Layout(height='25px', width='50%'),…"
      ]
     },
     "metadata": {},
     "output_type": "display_data"
    },
    {
     "name": "stdout",
     "output_type": "stream",
     "text": [
      "['fecha reporte web', 'ID de caso', 'Fecha de notificación', 'Código DIVIPOLA departamento', 'Nombre departamento', 'Código DIVIPOLA municipio', 'Nombre municipio', 'Edad', 'Unidad de medida de edad', 'Sexo', 'Tipo de contagio', 'Ubicación del caso', 'Estado', 'Código ISO del país', 'Nombre del país', 'Recuperado', 'Fecha de inicio de síntomas', 'Fecha de muerte', 'Fecha de diagnóstico', 'Fecha de recuperación', 'Tipo de recuperación', 'Pertenencia étnica', 'Nombre del grupo étnico']"
     ]
    }
   ],
   "source": [
    "#columnas del dataframe\n",
    "df.columns"
   ]
  },
  {
   "cell_type": "code",
   "execution_count": 6,
   "metadata": {},
   "outputs": [
    {
     "data": {
      "application/vnd.jupyter.widget-view+json": {
       "model_id": "b121dd7af2a846748e7f801a00173cf5",
       "version_major": 2,
       "version_minor": 0
      },
      "text/plain": [
       "VBox()"
      ]
     },
     "metadata": {},
     "output_type": "display_data"
    },
    {
     "data": {
      "application/vnd.jupyter.widget-view+json": {
       "model_id": "",
       "version_major": 2,
       "version_minor": 0
      },
      "text/plain": [
       "FloatProgress(value=0.0, bar_style='info', description='Progress:', layout=Layout(height='25px', width='50%'),…"
      ]
     },
     "metadata": {},
     "output_type": "display_data"
    },
    {
     "name": "stdout",
     "output_type": "stream",
     "text": [
      "(1324792, 23)"
     ]
    }
   ],
   "source": [
    "# numero de datos y columnas \n",
    "print((df.count(),len(df.columns)))"
   ]
  },
  {
   "cell_type": "code",
   "execution_count": 7,
   "metadata": {},
   "outputs": [
    {
     "data": {
      "application/vnd.jupyter.widget-view+json": {
       "model_id": "cb534307f10c49b1ae2a1283beb24f9e",
       "version_major": 2,
       "version_minor": 0
      },
      "text/plain": [
       "VBox()"
      ]
     },
     "metadata": {},
     "output_type": "display_data"
    },
    {
     "data": {
      "application/vnd.jupyter.widget-view+json": {
       "model_id": "",
       "version_major": 2,
       "version_minor": 0
      },
      "text/plain": [
       "FloatProgress(value=0.0, bar_style='info', description='Progress:', layout=Layout(height='25px', width='50%'),…"
      ]
     },
     "metadata": {},
     "output_type": "display_data"
    },
    {
     "name": "stdout",
     "output_type": "stream",
     "text": [
      "root\n",
      " |-- fecha reporte web: string (nullable = true)\n",
      " |-- ID de caso: integer (nullable = true)\n",
      " |-- Fecha de notificación: string (nullable = true)\n",
      " |-- Código DIVIPOLA departamento: integer (nullable = true)\n",
      " |-- Nombre departamento: string (nullable = true)\n",
      " |-- Código DIVIPOLA municipio: integer (nullable = true)\n",
      " |-- Nombre municipio: string (nullable = true)\n",
      " |-- Edad: integer (nullable = true)\n",
      " |-- Unidad de medida de edad: integer (nullable = true)\n",
      " |-- Sexo: string (nullable = true)\n",
      " |-- Tipo de contagio: string (nullable = true)\n",
      " |-- Ubicación del caso: string (nullable = true)\n",
      " |-- Estado: string (nullable = true)\n",
      " |-- Código ISO del país: integer (nullable = true)\n",
      " |-- Nombre del país: string (nullable = true)\n",
      " |-- Recuperado: string (nullable = true)\n",
      " |-- Fecha de inicio de síntomas: string (nullable = true)\n",
      " |-- Fecha de muerte: string (nullable = true)\n",
      " |-- Fecha de diagnóstico: string (nullable = true)\n",
      " |-- Fecha de recuperación: string (nullable = true)\n",
      " |-- Tipo de recuperación: string (nullable = true)\n",
      " |-- Pertenencia étnica: integer (nullable = true)\n",
      " |-- Nombre del grupo étnico: string (nullable = true)"
     ]
    }
   ],
   "source": [
    "#esquema del dataframe\n",
    "df.printSchema()"
   ]
  },
  {
   "cell_type": "code",
   "execution_count": 8,
   "metadata": {},
   "outputs": [
    {
     "data": {
      "application/vnd.jupyter.widget-view+json": {
       "model_id": "e11be5287bcb45ad8c3a6307780b63b5",
       "version_major": 2,
       "version_minor": 0
      },
      "text/plain": [
       "VBox()"
      ]
     },
     "metadata": {},
     "output_type": "display_data"
    },
    {
     "data": {
      "application/vnd.jupyter.widget-view+json": {
       "model_id": "",
       "version_major": 2,
       "version_minor": 0
      },
      "text/plain": [
       "FloatProgress(value=0.0, bar_style='info', description='Progress:', layout=Layout(height='25px', width='50%'),…"
      ]
     },
     "metadata": {},
     "output_type": "display_data"
    },
    {
     "name": "stdout",
     "output_type": "stream",
     "text": [
      "+-----------------+----------+---------------------+-------------------+----------------+----+------------------------+----+----------------+------------------+------+---------------+----------+---------------------------+---------------+--------------------+---------------------+--------------------+------------------+\n",
      "|fecha reporte web|ID de caso|Fecha de notificación|Nombre departamento|Nombre municipio|Edad|Unidad de medida de edad|Sexo|Tipo de contagio|Ubicación del caso|Estado|Nombre del país|Recuperado|Fecha de inicio de síntomas|Fecha de muerte|Fecha de diagnóstico|Fecha de recuperación|Tipo de recuperación|Pertenencia étnica|\n",
      "+-----------------+----------+---------------------+-------------------+----------------+----+------------------------+----+----------------+------------------+------+---------------+----------+---------------------------+---------------+--------------------+---------------------+--------------------+------------------+\n",
      "| 6/3/2020 0:00:00|         1|     2/3/2020 0:00:00|             BOGOTA|          BOGOTA|  19|                       1|   F|       Importado|              Casa|  Leve|         ITALIA|Recuperado|          27/2/2020 0:00:00|           null|    6/3/2020 0:00:00|    13/3/2020 0:00:00|                 PCR|                 6|\n",
      "| 9/3/2020 0:00:00|         2|     6/3/2020 0:00:00|              VALLE|            BUGA|  34|                       1|   M|       Importado|              Casa|  Leve|         ESPAÑA|Recuperado|           4/3/2020 0:00:00|           null|    9/3/2020 0:00:00|    19/3/2020 0:00:00|                 PCR|                 5|\n",
      "| 9/3/2020 0:00:00|         3|     7/3/2020 0:00:00|          ANTIOQUIA|        MEDELLIN|  50|                       1|   F|       Importado|              Casa|  Leve|         ESPAÑA|Recuperado|          29/2/2020 0:00:00|           null|    9/3/2020 0:00:00|    15/3/2020 0:00:00|                 PCR|                 6|\n",
      "|11/3/2020 0:00:00|         4|     9/3/2020 0:00:00|          ANTIOQUIA|        MEDELLIN|  55|                       1|   M|     Relacionado|              Casa|  Leve|           null|Recuperado|           6/3/2020 0:00:00|           null|   11/3/2020 0:00:00|    26/3/2020 0:00:00|                 PCR|                 6|\n",
      "|11/3/2020 0:00:00|         5|     9/3/2020 0:00:00|          ANTIOQUIA|        MEDELLIN|  25|                       1|   M|     Relacionado|              Casa|  Leve|           null|Recuperado|           8/3/2020 0:00:00|           null|   11/3/2020 0:00:00|    23/3/2020 0:00:00|                 PCR|                 6|\n",
      "|11/3/2020 0:00:00|         6|    10/3/2020 0:00:00|          ANTIOQUIA|          ITAGUI|  27|                       1|   F|     Relacionado|              Casa|  Leve|           null|Recuperado|           6/3/2020 0:00:00|           null|   11/3/2020 0:00:00|    26/3/2020 0:00:00|                 PCR|                 6|\n",
      "|11/3/2020 0:00:00|         7|     8/3/2020 0:00:00|          CARTAGENA|       CARTAGENA|  85|                       1|   F|       Importado|              Casa|  Leve| ESTADOS UNIDOS|Recuperado|           2/3/2020 0:00:00|           null|   11/3/2020 0:00:00|    17/3/2020 0:00:00|                 PCR|                 6|\n",
      "|11/3/2020 0:00:00|         8|     9/3/2020 0:00:00|             BOGOTA|          BOGOTA|  22|                       1|   F|       Importado|              Casa|  Leve|         ESPAÑA|Recuperado|           6/3/2020 0:00:00|           null|   11/3/2020 0:00:00|    21/3/2020 0:00:00|                 PCR|                 6|\n",
      "|11/3/2020 0:00:00|         9|     8/3/2020 0:00:00|             BOGOTA|          BOGOTA|  28|                       1|   F|       Importado|              Casa|  Leve|         ESPAÑA|Recuperado|           7/3/2020 0:00:00|           null|   11/3/2020 0:00:00|    23/3/2020 0:00:00|                 PCR|                 6|\n",
      "|12/3/2020 0:00:00|        10|    12/3/2020 0:00:00|             BOGOTA|          BOGOTA|  36|                       1|   F|       Importado|              Casa|  Leve|         ESPAÑA|Recuperado|           6/3/2020 0:00:00|           null|   12/3/2020 0:00:00|    21/3/2020 0:00:00|                 PCR|                 6|\n",
      "+-----------------+----------+---------------------+-------------------+----------------+----+------------------------+----+----------------+------------------+------+---------------+----------+---------------------------+---------------+--------------------+---------------------+--------------------+------------------+\n",
      "only showing top 10 rows"
     ]
    }
   ],
   "source": [
    "# Seleccion de columnas que deseamos guardar\n",
    "df.select('fecha reporte web', 'ID de caso', 'Fecha de notificación', 'Nombre departamento', 'Nombre municipio', 'Edad', 'Unidad de medida de edad', 'Sexo', 'Tipo de contagio', 'Ubicación del caso', 'Estado', 'Nombre del país', 'Recuperado', 'Fecha de inicio de síntomas', 'Fecha de muerte', 'Fecha de diagnóstico', 'Fecha de recuperación', 'Tipo de recuperación', 'Pertenencia étnica').show(10)"
   ]
  },
  {
   "cell_type": "code",
   "execution_count": 12,
   "metadata": {},
   "outputs": [
    {
     "data": {
      "application/vnd.jupyter.widget-view+json": {
       "model_id": "09d7063b4ea241b68c56e4562861cff9",
       "version_major": 2,
       "version_minor": 0
      },
      "text/plain": [
       "VBox()"
      ]
     },
     "metadata": {},
     "output_type": "display_data"
    },
    {
     "data": {
      "application/vnd.jupyter.widget-view+json": {
       "model_id": "",
       "version_major": 2,
       "version_minor": 0
      },
      "text/plain": [
       "FloatProgress(value=0.0, bar_style='info', description='Progress:', layout=Layout(height='25px', width='50%'),…"
      ]
     },
     "metadata": {},
     "output_type": "display_data"
    },
    {
     "name": "stdout",
     "output_type": "stream",
     "text": [
      "+------------------+-----+\n",
      "| fecha reporte web|count|\n",
      "+------------------+-----+\n",
      "| 19/8/2020 0:00:00|13056|\n",
      "| 11/8/2020 0:00:00|12830|\n",
      "| 18/8/2020 0:00:00|12462|\n",
      "| 12/8/2020 0:00:00|12066|\n",
      "|  6/8/2020 0:00:00|11996|\n",
      "| 16/8/2020 0:00:00|11643|\n",
      "| 15/8/2020 0:00:00|11578|\n",
      "| 20/8/2020 0:00:00|11541|\n",
      "|  2/8/2020 0:00:00|11470|\n",
      "| 14/8/2020 0:00:00|11306|\n",
      "| 13/8/2020 0:00:00|11286|\n",
      "|29/10/2020 0:00:00|11185|\n",
      "|31/10/2020 0:00:00|11018|\n",
      "| 22/8/2020 0:00:00|10965|\n",
      "|  5/8/2020 0:00:00|10735|\n",
      "|  1/8/2020 0:00:00|10673|\n",
      "|  9/8/2020 0:00:00|10611|\n",
      "| 24/8/2020 0:00:00|10549|\n",
      "| 25/8/2020 0:00:00|10432|\n",
      "| 28/7/2020 0:00:00|10284|\n",
      "|  3/8/2020 0:00:00|10199|\n",
      "| 26/8/2020 0:00:00|10142|\n",
      "| 10/8/2020 0:00:00|10142|\n",
      "|30/10/2020 0:00:00|10027|\n",
      "|27/11/2020 0:00:00|10023|\n",
      "| 30/7/2020 0:00:00| 9965|\n",
      "| 2/11/2020 0:00:00| 9930|\n",
      "| 5/11/2020 0:00:00| 9893|\n",
      "| 6/11/2020 0:00:00| 9755|\n",
      "| 27/8/2020 0:00:00| 9752|\n",
      "+------------------+-----+\n",
      "only showing top 30 rows"
     ]
    }
   ],
   "source": [
    "#los 30 dias con mas registros de casos\n",
    "df.select('fecha reporte web', 'ID de caso').groupBy('fecha reporte web').count().orderBy('count', ascending=False).show(30)"
   ]
  },
  {
   "cell_type": "code",
   "execution_count": 9,
   "metadata": {},
   "outputs": [
    {
     "data": {
      "application/vnd.jupyter.widget-view+json": {
       "model_id": "d23ef7adb2e1441aa0eae4764bd83e17",
       "version_major": 2,
       "version_minor": 0
      },
      "text/plain": [
       "VBox()"
      ]
     },
     "metadata": {},
     "output_type": "display_data"
    },
    {
     "data": {
      "application/vnd.jupyter.widget-view+json": {
       "model_id": "",
       "version_major": 2,
       "version_minor": 0
      },
      "text/plain": [
       "FloatProgress(value=0.0, bar_style='info', description='Progress:', layout=Layout(height='25px', width='50%'),…"
      ]
     },
     "metadata": {},
     "output_type": "display_data"
    }
   ],
   "source": [
    "# Guardado de datos"
   ]
  },
  {
   "cell_type": "code",
   "execution_count": 12,
   "metadata": {},
   "outputs": [
    {
     "data": {
      "application/vnd.jupyter.widget-view+json": {
       "model_id": "e6c28dcd98324d07b9d7cd23213e5eaa",
       "version_major": 2,
       "version_minor": 0
      },
      "text/plain": [
       "VBox()"
      ]
     },
     "metadata": {},
     "output_type": "display_data"
    },
    {
     "data": {
      "application/vnd.jupyter.widget-view+json": {
       "model_id": "",
       "version_major": 2,
       "version_minor": 0
      },
      "text/plain": [
       "FloatProgress(value=0.0, bar_style='info', description='Progress:', layout=Layout(height='25px', width='50%'),…"
      ]
     },
     "metadata": {},
     "output_type": "display_data"
    }
   ],
   "source": [
    "write_uri='s3://proyecto-3/Curated-py3/covid19'"
   ]
  },
  {
   "cell_type": "code",
   "execution_count": 13,
   "metadata": {},
   "outputs": [
    {
     "data": {
      "application/vnd.jupyter.widget-view+json": {
       "model_id": "2d9e558fcd494691b0e8a254ee89ea03",
       "version_major": 2,
       "version_minor": 0
      },
      "text/plain": [
       "VBox()"
      ]
     },
     "metadata": {},
     "output_type": "display_data"
    },
    {
     "data": {
      "application/vnd.jupyter.widget-view+json": {
       "model_id": "",
       "version_major": 2,
       "version_minor": 0
      },
      "text/plain": [
       "FloatProgress(value=0.0, bar_style='info', description='Progress:', layout=Layout(height='25px', width='50%'),…"
      ]
     },
     "metadata": {},
     "output_type": "display_data"
    }
   ],
   "source": [
    "df.coalesce(1).write.format(\"csv\").option(\"header\",\"true\").save(write_uri)"
   ]
  },
  {
   "cell_type": "code",
   "execution_count": null,
   "metadata": {},
   "outputs": [],
   "source": []
  }
 ],
 "metadata": {
  "kernelspec": {
   "display_name": "PySpark",
   "language": "",
   "name": "pysparkkernel"
  },
  "language_info": {
   "codemirror_mode": {
    "name": "python",
    "version": 2
   },
   "mimetype": "text/x-python",
   "name": "pyspark",
   "pygments_lexer": "python2"
  }
 },
 "nbformat": 4,
 "nbformat_minor": 4
}
